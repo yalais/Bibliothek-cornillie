{
 "cells": [
  {
   "attachments": {},
   "cell_type": "markdown",
   "metadata": {},
   "source": [
    "## Libraries und Vairablen"
   ]
  },
  {
   "cell_type": "code",
   "execution_count": 18,
   "metadata": {},
   "outputs": [],
   "source": [
    "from selenium import webdriver\n",
    "from selenium.webdriver.common.keys import Keys\n",
    "from selenium.webdriver.common.by  import By\n",
    "from selenium.webdriver.support.ui import WebDriverWait\n",
    "from selenium.webdriver.support import expected_conditions as EC\n",
    "import pandas as pd\n",
    "import time\n",
    "import requests\n",
    "import re\n",
    "from bs4 import BeautifulSoup"
   ]
  },
  {
   "cell_type": "code",
   "execution_count": 11,
   "metadata": {},
   "outputs": [],
   "source": [
    "buchhaus_new_last_30 = 'https://www.buchhaus.ch/de/heute/last30'"
   ]
  },
  {
   "attachments": {},
   "cell_type": "markdown",
   "metadata": {},
   "source": [
    "## Webscraping"
   ]
  },
  {
   "cell_type": "code",
   "execution_count": 12,
   "metadata": {},
   "outputs": [
    {
     "name": "stderr",
     "output_type": "stream",
     "text": [
      "C:\\Users\\yanni\\AppData\\Local\\Temp\\ipykernel_11408\\3733846595.py:6: DeprecationWarning: executable_path has been deprecated, please pass in a Service object\n",
      "  driver = webdriver.Chrome(PATH)\n"
     ]
    },
    {
     "name": "stdout",
     "output_type": "stream",
     "text": [
      "Scraping page:  1\n",
      "Scraping page:  2\n",
      "Scraping page:  3\n",
      "Scraping page:  4\n",
      "Scraping page:  5\n",
      "Scraping page:  6\n",
      "Scraping page:  7\n",
      "Scraping page:  8\n",
      "Scraping page:  9\n",
      "Scraping page:  10\n"
     ]
    }
   ],
   "source": [
    "'''\n",
    "In this code Snippet we will get all the links to the books on the website\n",
    "'''\n",
    "\n",
    "PATH = \"C:\\Program Files (x86)\\chromedriver.exe\"\n",
    "driver = webdriver.Chrome(PATH)\n",
    "#load the page\n",
    "driver.get(buchhaus_new_last_30)\n",
    "\n",
    "all_links = []\n",
    "\n",
    "# data frame\n",
    "buch_df = pd.DataFrame(columns=['Titel',  \n",
    "                            'Preis',\n",
    "                            'Autor', \n",
    "                            'details', \n",
    "                            'Genre',\n",
    "                            'Text'])\n",
    "\n",
    "for page in range(1,11):\n",
    "    print('Scraping page: ', page)\n",
    "\n",
    "    # scrape all hyperlinks\n",
    "    links = driver.find_elements(By.XPATH, '/html/body/div[2]/div/div/main/div[3]/div[2]/div[4]/div//a')\n",
    "\n",
    "    # get the href attribute\n",
    "    links = [link.get_attribute('href') for link in links]\n",
    "\n",
    "    # remove duplicates\n",
    "    links = list(dict.fromkeys(links))\n",
    "\n",
    "    # remove all links that are not books\n",
    "    links = [link for link in links if 'buecher' in link]\n",
    "\n",
    "    # add links to all_links\n",
    "    all_links.extend(links)\n",
    "\n",
    "    # go to the next page\n",
    "    if page == 1: driver.find_element(By.XPATH, '/html/body/div[2]/div/div/main/div[3]/div[2]/div[1]/div[5]/div/a').click()\n",
    "    elif page == 10: pass\n",
    "    else: driver.find_element(By.XPATH, '/html/body/div[2]/div/div/main/div[3]/div[2]/div[1]/div[5]/div/a[2]').click()\n",
    "    time.sleep(1)\n",
    "    \n",
    "driver.close()"
   ]
  },
  {
   "cell_type": "code",
   "execution_count": 13,
   "metadata": {},
   "outputs": [
    {
     "name": "stderr",
     "output_type": "stream",
     "text": [
      "C:\\Users\\yanni\\AppData\\Local\\Temp\\ipykernel_11408\\2424311230.py:6: DeprecationWarning: executable_path has been deprecated, please pass in a Service object\n",
      "  driver = webdriver.Chrome(PATH)\n"
     ]
    }
   ],
   "source": [
    "'''\n",
    "In this code snippet we will get the data from the links\n",
    "'''\n",
    "\n",
    "PATH = \"C:\\Program Files (x86)\\chromedriver.exe\"\n",
    "driver = webdriver.Chrome(PATH)\n",
    "#load the page\n",
    "driver.get(buchhaus_new_last_30)\n",
    "\n",
    "for book in all_links:\n",
    "    try:\n",
    "        driver.get(book)\n",
    "\n",
    "        # get the data simple data\n",
    "        try: titel = driver.find_element(By.XPATH, '/html/body/div[2]/div/div/main/div[2]/section[1]/div[2]/div[1]/h1/span/span').text\n",
    "        except: titel = 'nan'\n",
    "\n",
    "        try: preis = driver.find_element(By.XPATH, '/html/body/div[2]/div/div/main/div[2]/section[1]/div[2]/div[2]/div/div/span[2]/span').text\n",
    "        except: preis = 'nan'\n",
    "\n",
    "        try: autor = driver.find_element(By.XPATH, '/html/body/div[2]/div/div/main/div[2]/section[1]/div[2]/div[1]/div[2]/div').text\n",
    "        except: autor = 'nan'\n",
    "\n",
    "        # get the 'Buchbeschreibungen'\n",
    "        try: text = driver.find_element(By.XPATH, '/html/body/div[2]/div/div/main/div[2]/section[3]/div[1]/div[2]/div/span/span/span').text\n",
    "        except: text = 'nan'\n",
    "\n",
    "        # get the genre\n",
    "        parts = book.split('/')\n",
    "        #find the index of the genre\n",
    "        start_index = parts.index('buecher')\n",
    "        end_index = parts.index('detail')\n",
    "        # get the genres\n",
    "        genre = parts[start_index+1:end_index]\n",
    "        genre = ' '.join(genre)\n",
    "\n",
    "        # get the 'Buchdetails'\n",
    "        try: details = driver.find_element(By.XPATH, '/html/body/div[2]/div/div/main/div[2]/section[3]/div[2]/div[2]/div').text\n",
    "        except: details = 'nan'\n",
    "\n",
    "    # Fehlermeldung\n",
    "    except: \n",
    "        print('error mit Buch: ', book)\n",
    "        continue\n",
    "    \n",
    "\n",
    "    df_temp = pd.DataFrame({'Titel': titel,  \n",
    "                    'Preis': preis,\n",
    "                    'Autor': autor,\n",
    "                    'details': details,\n",
    "                    'Genre' : genre,\n",
    "                    'Text': text\n",
    "                    }, index=[0])\n",
    "    buch_df = pd.concat([buch_df, df_temp], ignore_index=True)\n",
    "\n",
    "driver.close()"
   ]
  },
  {
   "attachments": {},
   "cell_type": "markdown",
   "metadata": {},
   "source": [
    "## Datawrangling"
   ]
  },
  {
   "cell_type": "code",
   "execution_count": 14,
   "metadata": {},
   "outputs": [
    {
     "data": {
      "text/plain": [
       "(228, 6)"
      ]
     },
     "execution_count": 14,
     "metadata": {},
     "output_type": "execute_result"
    }
   ],
   "source": [
    "buch_df.shape"
   ]
  },
  {
   "cell_type": "code",
   "execution_count": 15,
   "metadata": {},
   "outputs": [],
   "source": [
    "'''\n",
    "short algorithm description:\n",
    "1. List all possible keys: These are the categories that precede the actual values in the data string.\n",
    "2. Create a regular expression: This regular expression is designed to match each key, followed by any characters until the next key is found or until the end of the string.\n",
    "3. Find all matches in the data: Use the 're.findall' function to apply the regular expression to the data string. \n",
    "This returns a list of tuples containing the key and the associated value for each match.\n",
    "4. Convert the matches into a Dictionnary in the Dataframe.\n",
    "'''\n",
    "\n",
    "def extract_details(details):\n",
    "    # Key words which can be find in the string\n",
    "    keys = [\"ISBN/GTIN\", \"Produktart\", \"Einbandart\", \"Verlag\", \"Erscheinungsdatum\", \"Auflage\", \"Reihe\", \"Reihen-Nr.\", \"Seiten\", \"Sprache\", \"Masse\", \"Artikel-Nr.\"]\n",
    "\n",
    "    # generate a regex which can find all the keys in the string\n",
    "    regex = \"(\" + \"|\".join(keys) + \")(.*?)(?=\" + \"|\".join(keys) + \"|$)\"\n",
    "\n",
    "    # finds all key value pairs in the string\n",
    "    matches = re.findall(regex, details)\n",
    "    \n",
    "    # returns a dictionary with key value pairs\n",
    "    return dict((k.strip(), v.strip()) for k, v in matches)"
   ]
  },
  {
   "cell_type": "code",
   "execution_count": 16,
   "metadata": {},
   "outputs": [],
   "source": [
    "def data_wrangling_pipeline(df):\n",
    "    # apply the function to the data frame (create a new column with extracted details)\n",
    "    df['details_dict'] = df['details'].apply(extract_details)\n",
    "    # create new dataframe with the details\n",
    "    details_df = df['details_dict'].apply(pd.Series, dtype= 'object')\n",
    "    # concat both dataframes\n",
    "    new_df = pd.concat([buch_df, details_df], axis=1)\n",
    "    # drop the old details columns\n",
    "    new_df.drop(['details', 'details_dict'], axis=1, inplace=True)\n",
    "    return new_df"
   ]
  },
  {
   "cell_type": "code",
   "execution_count": 19,
   "metadata": {},
   "outputs": [],
   "source": [
    "buch_df = data_wrangling_pipeline(buch_df)\n",
    "\n",
    "#drop all rows where the title is nan\n",
    "buch_df = buch_df[buch_df['Titel'] != 'nan']\n",
    "\n",
    "#drop duplicates\n",
    "buch_df.drop_duplicates(subset=['Titel'], inplace=True)\n",
    "\n",
    "# reset index\n",
    "buch_df.reset_index(drop=True, inplace=True)"
   ]
  },
  {
   "cell_type": "code",
   "execution_count": 22,
   "metadata": {},
   "outputs": [
    {
     "data": {
      "text/html": [
       "<div>\n",
       "<style scoped>\n",
       "    .dataframe tbody tr th:only-of-type {\n",
       "        vertical-align: middle;\n",
       "    }\n",
       "\n",
       "    .dataframe tbody tr th {\n",
       "        vertical-align: top;\n",
       "    }\n",
       "\n",
       "    .dataframe thead th {\n",
       "        text-align: right;\n",
       "    }\n",
       "</style>\n",
       "<table border=\"1\" class=\"dataframe\">\n",
       "  <thead>\n",
       "    <tr style=\"text-align: right;\">\n",
       "      <th></th>\n",
       "      <th>Titel</th>\n",
       "      <th>Preis</th>\n",
       "      <th>Autor</th>\n",
       "      <th>Genre</th>\n",
       "      <th>Text</th>\n",
       "      <th>ISBN/GTIN</th>\n",
       "      <th>Produktart</th>\n",
       "      <th>Einbandart</th>\n",
       "      <th>Verlag</th>\n",
       "      <th>Erscheinungsdatum</th>\n",
       "      <th>Auflage</th>\n",
       "      <th>Reihe</th>\n",
       "      <th>Seiten</th>\n",
       "      <th>Sprache</th>\n",
       "      <th>Masse</th>\n",
       "      <th>Artikel-Nr.</th>\n",
       "    </tr>\n",
       "  </thead>\n",
       "  <tbody>\n",
       "    <tr>\n",
       "      <th>222</th>\n",
       "      <td>Marsupilami 31: So ein Zirkus!</td>\n",
       "      <td>17.90</td>\n",
       "      <td>Franquin, AndréDugomierBatemIllustrationenLe C...</td>\n",
       "      <td>comics comics</td>\n",
       "      <td>Abenteuer für Leseanfänger_innen\\n\\nDas Marsup...</td>\n",
       "      <td>978-3-551-79675-2</td>\n",
       "      <td>Buch</td>\n",
       "      <td>Paperback</td>\n",
       "      <td>Carlsen</td>\n",
       "      <td>02.05.2023</td>\n",
       "      <td>NaN</td>\n",
       "      <td>n-Nr.31</td>\n",
       "      <td></td>\n",
       "      <td>Deutsch</td>\n",
       "      <td>Breite 220 mm, Höhe 295 mm, Dicke 6 mm</td>\n",
       "      <td>NaN</td>\n",
       "    </tr>\n",
       "    <tr>\n",
       "      <th>223</th>\n",
       "      <td>Lacroix und der traurige Champion von Roland-G...</td>\n",
       "      <td>26.90</td>\n",
       "      <td>Lépic, Alex</td>\n",
       "      <td>belletristik krimi</td>\n",
       "      <td>Seit seine Frau Dominique für das Amt der Bürg...</td>\n",
       "      <td>978-3-311-12568-6</td>\n",
       "      <td>Buch</td>\n",
       "      <td>Gebunden</td>\n",
       "      <td></td>\n",
       "      <td>20.04.2023</td>\n",
       "      <td>NaN</td>\n",
       "      <td>n-Nr.06</td>\n",
       "      <td></td>\n",
       "      <td>Deutsch</td>\n",
       "      <td>Breite 115 mm, Höhe 185 mm, Dicke 18 mm</td>\n",
       "      <td>NaN</td>\n",
       "    </tr>\n",
       "    <tr>\n",
       "      <th>224</th>\n",
       "      <td>Mehr Energie in 4 Wochen</td>\n",
       "      <td>29.90</td>\n",
       "      <td>Walk, Ute</td>\n",
       "      <td>fachbuecher medizin naturheilen</td>\n",
       "      <td>Wieder mehr Energie und Kraft\\n\\nEtwas Müdigke...</td>\n",
       "      <td>978-3-8338-8734-5</td>\n",
       "      <td>Buch</td>\n",
       "      <td>Paperback</td>\n",
       "      <td>Gräfe &amp; Unzer</td>\n",
       "      <td>04.05.2023</td>\n",
       "      <td>NaN</td>\n",
       "      <td>GU Körper &amp; Seele Ratgeber Gesundheit</td>\n",
       "      <td></td>\n",
       "      <td>Deutsch</td>\n",
       "      <td>Breite 166 mm, Höhe 200 mm, Dicke 14 mmGewicht...</td>\n",
       "      <td>NaN</td>\n",
       "    </tr>\n",
       "    <tr>\n",
       "      <th>225</th>\n",
       "      <td>Noah - Von einem, der überlebte</td>\n",
       "      <td>17.90</td>\n",
       "      <td>Würger, TakisKangisser Cohen, SharonNachwortKl...</td>\n",
       "      <td>taschenbuch biografien</td>\n",
       "      <td>»Noah [...] sei vielen, vor allem jungen Leser...</td>\n",
       "      <td>978-3-328-10844-3</td>\n",
       "      <td>Taschenbuch</td>\n",
       "      <td>Paperback</td>\n",
       "      <td>München</td>\n",
       "      <td>11.05.2023</td>\n",
       "      <td>Erstmals im TB</td>\n",
       "      <td>NaN</td>\n",
       "      <td></td>\n",
       "      <td>Deutsch</td>\n",
       "      <td>Breite 119 mm, Höhe 188 mm, Dicke 19 mmGewicht...</td>\n",
       "      <td>NaN</td>\n",
       "    </tr>\n",
       "    <tr>\n",
       "      <th>226</th>\n",
       "      <td>Feel Good at Home</td>\n",
       "      <td>37.90</td>\n",
       "      <td>Hellweg, Marion</td>\n",
       "      <td>fachbuecher kunst wohnen_fengshui</td>\n",
       "      <td>Der praktische Wohn-Guide: So verwandele ich m...</td>\n",
       "      <td>978-3-7913-8938-7</td>\n",
       "      <td>Buch</td>\n",
       "      <td>Gebunden</td>\n",
       "      <td>Prestel</td>\n",
       "      <td>26.04.2023</td>\n",
       "      <td>NaN</td>\n",
       "      <td>NaN</td>\n",
       "      <td></td>\n",
       "      <td>Deutsch</td>\n",
       "      <td>Breite 177 mm, Höhe 248 mm, Dicke 23 mmGewicht...</td>\n",
       "      <td>NaN</td>\n",
       "    </tr>\n",
       "  </tbody>\n",
       "</table>\n",
       "</div>"
      ],
      "text/plain": [
       "                                                 Titel  Preis  \\\n",
       "222                     Marsupilami 31: So ein Zirkus!  17.90   \n",
       "223  Lacroix und der traurige Champion von Roland-G...  26.90   \n",
       "224                           Mehr Energie in 4 Wochen  29.90   \n",
       "225                    Noah - Von einem, der überlebte  17.90   \n",
       "226                                  Feel Good at Home  37.90   \n",
       "\n",
       "                                                 Autor  \\\n",
       "222  Franquin, AndréDugomierBatemIllustrationenLe C...   \n",
       "223                                        Lépic, Alex   \n",
       "224                                          Walk, Ute   \n",
       "225  Würger, TakisKangisser Cohen, SharonNachwortKl...   \n",
       "226                                    Hellweg, Marion   \n",
       "\n",
       "                                 Genre  \\\n",
       "222                      comics comics   \n",
       "223                 belletristik krimi   \n",
       "224    fachbuecher medizin naturheilen   \n",
       "225             taschenbuch biografien   \n",
       "226  fachbuecher kunst wohnen_fengshui   \n",
       "\n",
       "                                                  Text          ISBN/GTIN  \\\n",
       "222  Abenteuer für Leseanfänger_innen\\n\\nDas Marsup...  978-3-551-79675-2   \n",
       "223  Seit seine Frau Dominique für das Amt der Bürg...  978-3-311-12568-6   \n",
       "224  Wieder mehr Energie und Kraft\\n\\nEtwas Müdigke...  978-3-8338-8734-5   \n",
       "225  »Noah [...] sei vielen, vor allem jungen Leser...  978-3-328-10844-3   \n",
       "226  Der praktische Wohn-Guide: So verwandele ich m...  978-3-7913-8938-7   \n",
       "\n",
       "      Produktart Einbandart         Verlag Erscheinungsdatum         Auflage  \\\n",
       "222         Buch  Paperback        Carlsen        02.05.2023             NaN   \n",
       "223         Buch   Gebunden                       20.04.2023             NaN   \n",
       "224         Buch  Paperback  Gräfe & Unzer        04.05.2023             NaN   \n",
       "225  Taschenbuch  Paperback        München        11.05.2023  Erstmals im TB   \n",
       "226         Buch   Gebunden        Prestel        26.04.2023             NaN   \n",
       "\n",
       "                                     Reihe Seiten  Sprache  \\\n",
       "222                                n-Nr.31         Deutsch   \n",
       "223                                n-Nr.06         Deutsch   \n",
       "224  GU Körper & Seele Ratgeber Gesundheit         Deutsch   \n",
       "225                                    NaN         Deutsch   \n",
       "226                                    NaN         Deutsch   \n",
       "\n",
       "                                                 Masse Artikel-Nr.  \n",
       "222             Breite 220 mm, Höhe 295 mm, Dicke 6 mm         NaN  \n",
       "223            Breite 115 mm, Höhe 185 mm, Dicke 18 mm         NaN  \n",
       "224  Breite 166 mm, Höhe 200 mm, Dicke 14 mmGewicht...         NaN  \n",
       "225  Breite 119 mm, Höhe 188 mm, Dicke 19 mmGewicht...         NaN  \n",
       "226  Breite 177 mm, Höhe 248 mm, Dicke 23 mmGewicht...         NaN  "
      ]
     },
     "execution_count": 22,
     "metadata": {},
     "output_type": "execute_result"
    }
   ],
   "source": [
    "buch_df.tail()"
   ]
  },
  {
   "attachments": {},
   "cell_type": "markdown",
   "metadata": {},
   "source": [
    "## Export"
   ]
  },
  {
   "cell_type": "code",
   "execution_count": 21,
   "metadata": {},
   "outputs": [],
   "source": [
    "# save as xlsx\n",
    "buch_df.to_excel('../data/excelfiles/df_neuheiten_buchhaus.xlsx', index=False)\n",
    "# save as feather\n",
    "buch_df.to_feather('../data/feather/df_neuheiten_buchhaus.feather')"
   ]
  },
  {
   "attachments": {},
   "cell_type": "markdown",
   "metadata": {},
   "source": [
    "## Ausblick"
   ]
  },
  {
   "attachments": {},
   "cell_type": "markdown",
   "metadata": {},
   "source": [
    "Ausblick:\n",
    "\n",
    "* Bücher in den nächsten 30 Tagen könnten auch gescrapet werden"
   ]
  }
 ],
 "metadata": {
  "kernelspec": {
   "display_name": "Python 3",
   "language": "python",
   "name": "python3"
  },
  "language_info": {
   "codemirror_mode": {
    "name": "ipython",
    "version": 3
   },
   "file_extension": ".py",
   "mimetype": "text/x-python",
   "name": "python",
   "nbconvert_exporter": "python",
   "pygments_lexer": "ipython3",
   "version": "3.10.4"
  },
  "orig_nbformat": 4
 },
 "nbformat": 4,
 "nbformat_minor": 2
}
