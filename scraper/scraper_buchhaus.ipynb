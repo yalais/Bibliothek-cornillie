{
 "cells": [
  {
   "attachments": {},
   "cell_type": "markdown",
   "metadata": {},
   "source": [
    "## Libraries und Vairablen"
   ]
  },
  {
   "cell_type": "code",
   "execution_count": 29,
   "metadata": {},
   "outputs": [],
   "source": [
    "from selenium import webdriver\n",
    "from selenium.webdriver.common.keys import Keys\n",
    "from selenium.webdriver.common.by  import By\n",
    "from selenium.webdriver.support.ui import WebDriverWait\n",
    "from selenium.webdriver.support import expected_conditions as EC\n",
    "import pandas as pd\n",
    "import time\n",
    "import re"
   ]
  },
  {
   "cell_type": "code",
   "execution_count": 30,
   "metadata": {},
   "outputs": [],
   "source": [
    "buchhaus_new_last_30 = 'https://www.buchhaus.ch/de/heute/last30'"
   ]
  },
  {
   "attachments": {},
   "cell_type": "markdown",
   "metadata": {},
   "source": [
    "## Webscraping"
   ]
  },
  {
   "cell_type": "code",
   "execution_count": 31,
   "metadata": {},
   "outputs": [
    {
     "name": "stderr",
     "output_type": "stream",
     "text": [
      "C:\\Users\\yanni\\AppData\\Local\\Temp\\ipykernel_15848\\2562079825.py:2: DeprecationWarning: executable_path has been deprecated, please pass in a Service object\n",
      "  driver = webdriver.Chrome(PATH)\n"
     ]
    },
    {
     "name": "stdout",
     "output_type": "stream",
     "text": [
      "error mit Buch 5 auf Seite 1\n",
      "error mit Buch 6 auf Seite 1\n",
      "error mit Buch 7 auf Seite 1\n",
      "error mit Buch 5 auf Seite 2\n",
      "error mit Buch 6 auf Seite 2\n",
      "error mit Buch 7 auf Seite 2\n",
      "error mit Buch 5 auf Seite 3\n",
      "error mit Buch 6 auf Seite 3\n",
      "error mit Buch 7 auf Seite 3\n",
      "error mit Buch 5 auf Seite 4\n",
      "error mit Buch 6 auf Seite 4\n",
      "error mit Buch 7 auf Seite 4\n",
      "error mit Buch 5 auf Seite 5\n",
      "error mit Buch 6 auf Seite 5\n",
      "error mit Buch 7 auf Seite 5\n",
      "error mit Buch 5 auf Seite 6\n",
      "error mit Buch 6 auf Seite 6\n",
      "error mit Buch 7 auf Seite 6\n",
      "error mit Buch 5 auf Seite 7\n",
      "error mit Buch 6 auf Seite 7\n",
      "error mit Buch 7 auf Seite 7\n",
      "error mit Buch 5 auf Seite 8\n",
      "error mit Buch 6 auf Seite 8\n",
      "error mit Buch 7 auf Seite 8\n",
      "error mit Buch 5 auf Seite 9\n",
      "error mit Buch 6 auf Seite 9\n",
      "error mit Buch 7 auf Seite 9\n"
     ]
    }
   ],
   "source": [
    "PATH = \"C:\\Program Files (x86)\\chromedriver.exe\"\n",
    "driver = webdriver.Chrome(PATH)\n",
    "#load the page\n",
    "driver.get(buchhaus_new_last_30)\n",
    "\n",
    "# data frame\n",
    "buch_df = pd.DataFrame(columns=['title',  \n",
    "                            'preis',\n",
    "                            'untertitel',\n",
    "                            'autor', \n",
    "                            'details', \n",
    "                            'genre',\n",
    "                            'text'])\n",
    "\n",
    "''' \n",
    "Algorith explanation:\n",
    "1. go to the i'th book and click on it\n",
    "2. extract all the necessary data\n",
    "3. add the data to the data frame\n",
    "4. go back to main page\n",
    "5. after 25 books go to the next page\n",
    "'''\n",
    "\n",
    "for page in range(1, 10):\n",
    "    for book in range(1,8):\n",
    "        try:\n",
    "            time.sleep(1)\n",
    "            # go to the i'th book and click on it\n",
    "            buch = driver.find_element(By.XPATH, '/html/body/div[2]/div/div/main/div[3]/div[2]/div[4]/div/div/div[{}]/div/div[1]/div/div/span/span/a'.format(book))\n",
    "            buch.click()\n",
    "\n",
    "            # get the data\n",
    "            try: titel = driver.find_element(By.XPATH, '/html/body/div[2]/div/div/main/div[2]/section[1]/div[2]/div[1]/h1/span/span').text\n",
    "            except: titel = 'nan'\n",
    "\n",
    "            try: preis = driver.find_element(By.XPATH, '/html/body/div[2]/div/div/main/div[2]/section[1]/div[2]/div[2]/div/div/span[2]/span').text\n",
    "            except: preis = 'nan'\n",
    "\n",
    "            try: untertitel = driver.find_element(By.XPATH, '/html/body/div[2]/div/div/main/div[2]/section[1]/div[2]/div[1]/div[2]/div').text\n",
    "            except: untertitel = 'nan'\n",
    "\n",
    "            try: autor = driver.find_element(By.XPATH, '/html/body/div[2]/div/div/main/div[2]/section[1]/div[2]/div[1]/div[2]/div/span/span/span/span/a').text\n",
    "            except: autor = 'nan'\n",
    "\n",
    "            # get the 'Buchbeschreibungen'\n",
    "            try: text = driver.find_element(By.XPATH, '/html/body/div[2]/div/div/main/div[2]/section[3]/div[1]/div[2]/div/span/span/span').text\n",
    "            except: text = 'nan'\n",
    "\n",
    "            # get the 'Buchdetails'\n",
    "            try: details = driver.find_element(By.XPATH, '/html/body/div[2]/div/div/main/div[2]/section[3]/div[2]/div[2]/div').text\n",
    "            except: details = 'nan'\n",
    "\n",
    "        # Fehlermeldung\n",
    "        except: \n",
    "            print('error mit Buch {} auf Seite {}'.format(book, page))\n",
    "            continue\n",
    "    \n",
    "\n",
    "        df_temp = pd.DataFrame({'title': titel,  \n",
    "                        'preis': preis,\n",
    "                        'untertitel': untertitel,\n",
    "                        'autor': autor,\n",
    "                        'details': details,\n",
    "                        'text': text\n",
    "                        }, index=[0])\n",
    "        buch_df = pd.concat([buch_df, df_temp], ignore_index=True)\n",
    "    \n",
    "        #back to the main page\n",
    "        driver.get(buchhaus_new_last_30)\n",
    "\n",
    "    # go to the next page\n",
    "    if page == 1: driver.find_element(By.XPATH, '/html/body/div[2]/div/div/main/div[3]/div[2]/div[1]/div[5]/div/a').click()\n",
    "    else: driver.find_element(By.XPATH, '/html/body/div[2]/div/div/main/div[3]/div[2]/div[1]/div[5]/div/a[2]').click()\n",
    "    time.sleep(1)\n"
   ]
  },
  {
   "attachments": {},
   "cell_type": "markdown",
   "metadata": {},
   "source": [
    "## Datawrangling"
   ]
  },
  {
   "cell_type": "code",
   "execution_count": 32,
   "metadata": {},
   "outputs": [
    {
     "data": {
      "text/plain": [
       "(36, 7)"
      ]
     },
     "execution_count": 32,
     "metadata": {},
     "output_type": "execute_result"
    }
   ],
   "source": [
    "buch_df.shape"
   ]
  },
  {
   "cell_type": "code",
   "execution_count": 38,
   "metadata": {},
   "outputs": [
    {
     "data": {
      "text/plain": [
       "'ISBN/GTIN978-3-7645-0771-8ProduktartBuchEinbandartPaperbackVerlagBlanvaletErscheinungsdatum26.04.2023Auflage1. A.ReiheMilla Nova ermitteltReihen-Nr.05Seiten608 SeitenSpracheDeutsch'"
      ]
     },
     "execution_count": 38,
     "metadata": {},
     "output_type": "execute_result"
    }
   ],
   "source": [
    "buch_df['details'][0]"
   ]
  },
  {
   "cell_type": "code",
   "execution_count": 40,
   "metadata": {},
   "outputs": [
    {
     "name": "stdout",
     "output_type": "stream",
     "text": [
      "                 Key                                              Value\n",
      "0          ISBN/GTIN                                  978-3-406-79993-8\n",
      "1         Produktart                                               Buch\n",
      "2         Einbandart                                           Gebunden\n",
      "3             Verlag                                               Beck\n",
      "4  Erscheinungsdatum                                         24.04.2023\n",
      "5             Seiten                                               265 \n",
      "6             Seiten                                                   \n",
      "7            Sprache                                            Deutsch\n",
      "8              Masse  Breite 139 mm, Höhe 217 mm, Dicke 25 mmGewicht...\n",
      "9        Artikel-Nr.                                           55652787\n"
     ]
    }
   ],
   "source": [
    "data = buch_df['details'][2]\n",
    "\n",
    "# Liste der Schlüssel, die in den Daten gefunden werden können\n",
    "keys = [\"ISBN/GTIN\", \"Produktart\", \"Einbandart\", \"Verlag\", \"Erscheinungsdatum\", \"Auflage\", \"Reihe\", \"Reihen-Nr.\", \"Seiten\", \"Sprache\", \"Masse\", \"Artikel-Nr.\"]\n",
    "\n",
    "# Erstellt einen regulären Ausdruck, der nach den Schlüsseln sucht, gefolgt von beliebigen Zeichen bis zum nächsten Schlüssel\n",
    "regex = \"(\" + \"|\".join(keys) + \")(.*?)(?=\" + \"|\".join(keys) + \"|$)\"\n",
    "\n",
    "# Findet alle Übereinstimmungen in den Daten\n",
    "matches = re.findall(regex, data)\n",
    "\n",
    "# Erstellt einen Datenrahmen aus den gefundenen Übereinstimmungen\n",
    "df = pd.DataFrame(matches, columns=[\"Key\", \"Value\"])\n",
    "\n",
    "# Entfernt Leerzeichen am Anfang und Ende der Werte\n",
    "#df[\"Value\"] = df[\"Value\"].str.strip()\n",
    "\n",
    "print(df)"
   ]
  },
  {
   "attachments": {},
   "cell_type": "markdown",
   "metadata": {},
   "source": [
    "## Ausblick"
   ]
  },
  {
   "attachments": {},
   "cell_type": "markdown",
   "metadata": {},
   "source": [
    "nächste Schritte:\n",
    "\n",
    "* anpassung der Unterachiedlichen Buchinformationen"
   ]
  },
  {
   "attachments": {},
   "cell_type": "markdown",
   "metadata": {},
   "source": [
    "Ausblick:\n",
    "\n",
    "* Bücher in den nächsten 30 Tagen könnten auch gescrapet werden"
   ]
  }
 ],
 "metadata": {
  "kernelspec": {
   "display_name": "Python 3",
   "language": "python",
   "name": "python3"
  },
  "language_info": {
   "codemirror_mode": {
    "name": "ipython",
    "version": 3
   },
   "file_extension": ".py",
   "mimetype": "text/x-python",
   "name": "python",
   "nbconvert_exporter": "python",
   "pygments_lexer": "ipython3",
   "version": "3.10.4"
  },
  "orig_nbformat": 4
 },
 "nbformat": 4,
 "nbformat_minor": 2
}
