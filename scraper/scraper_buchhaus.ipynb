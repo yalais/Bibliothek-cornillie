{
 "cells": [
  {
   "attachments": {},
   "cell_type": "markdown",
   "metadata": {},
   "source": [
    "## Libraries und Vairablen"
   ]
  },
  {
   "cell_type": "code",
   "execution_count": 1,
   "metadata": {},
   "outputs": [],
   "source": [
    "from selenium import webdriver\n",
    "from selenium.webdriver.common.keys import Keys\n",
    "from selenium.webdriver.common.by  import By\n",
    "from selenium.webdriver.support.ui import WebDriverWait\n",
    "from selenium.webdriver.support import expected_conditions as EC\n",
    "import pandas as pd\n",
    "import time"
   ]
  },
  {
   "cell_type": "code",
   "execution_count": 2,
   "metadata": {},
   "outputs": [],
   "source": [
    "buchhaus_new_last_30 = 'https://www.buchhaus.ch/de/heute/last30'"
   ]
  },
  {
   "attachments": {},
   "cell_type": "markdown",
   "metadata": {},
   "source": [
    "## Webscraping"
   ]
  },
  {
   "cell_type": "code",
   "execution_count": 8,
   "metadata": {},
   "outputs": [
    {
     "name": "stderr",
     "output_type": "stream",
     "text": [
      "C:\\Users\\yanni\\AppData\\Local\\Temp\\ipykernel_16084\\147013529.py:2: DeprecationWarning: executable_path has been deprecated, please pass in a Service object\n",
      "  driver = webdriver.Chrome(PATH)\n"
     ]
    }
   ],
   "source": [
    "PATH = \"C:\\Program Files (x86)\\chromedriver.exe\"\n",
    "driver = webdriver.Chrome(PATH)\n",
    "driver.get(buchhaus_new_last_30)\n",
    "\n",
    "buch_df = pd.DataFrame(columns=['title',  \n",
    "                            'preis',\n",
    "                            'untertitel',\n",
    "                            'autor', \n",
    "                            'verlag',\n",
    "                            'sprache',\n",
    "                            'einband',\n",
    "                            'erscheinungsjahr',\n",
    "                            'seiten',\n",
    "                            'artikelnummer',\n",
    "                            'isbn',\n",
    "                            'auflage',\n",
    "                            'reihe',\n",
    "                            'reihenbandnummer',\n",
    "                            'genre',\n",
    "                            'text'])\n",
    "\n",
    "for page in range(1, 5):\n",
    "    for book in range(1,5):\n",
    "        try:\n",
    "            buch = driver.find_element(By.XPATH, '/html/body/div[2]/div/div/main/div[3]/div[2]/div[4]/div/div/div[{}]/div/div[1]/div/div/span/span/a'.format(book))\n",
    "            buch.click()\n",
    "\n",
    "            # get the data\n",
    "            try: titel = driver.find_element(By.XPATH, '/html/body/div[2]/div/div/main/div[2]/section[1]/div[2]/div[1]/h1/span/span').text\n",
    "            except: titel = 'nan'\n",
    "\n",
    "            try: preis = driver.find_element(By.XPATH, '/html/body/div[2]/div/div/main/div[2]/section[1]/div[3]/div[1]/div/div/span[2]/span').text\n",
    "            except: preis = 'nan'\n",
    "\n",
    "            try: untertitel = driver.find_element(By.XPATH, '/html/body/div[3]/div[2]/form/div[1]/div[2]/div/div[2]/table/tbody/tr[1]/td[2]').text\n",
    "            except: untertitel = 'nan'\n",
    "\n",
    "            try: autor = driver.find_element(By.XPATH, '/html/body/div[2]/div/div/main/div[2]/section[1]/div[2]/div[1]/div/div/span/span/span/span/a').text\n",
    "            except: autor = 'nan'\n",
    "\n",
    "            try: verlag = driver.find_element(By.XPATH, '/html/body/div[2]/div/div/main/div[2]/section[2]/article[1]/div[2]/div[2]/div[1]/div[5]/span[2]/div/div/span/span/a').text\n",
    "            except: verlag = 'nan'\n",
    "\n",
    "            try: einband = driver.find_element(By.XPATH, '/html/body/div[2]/div/div/main/div[2]/section[1]/div[2]/div[4]/span/span').text\n",
    "            except: einband = 'nan'\n",
    "\n",
    "            try: erscheinungsjahr = driver.find_element(By.XPATH, '/html/body/div[2]/div/div/main/div[2]/section[2]/article[1]/div[2]/div[2]/div[1]/div[7]/span[2]/span').text\n",
    "            except: erscheinungsjahr = 'nan'\n",
    "\n",
    "            try: seiten = driver.find_element(By.XPATH, '/html/body/div[2]/div/div/main/div[2]/section[2]/article[1]/div[2]/div[2]/div[1]/div[11]/span[2]/span').text\n",
    "            except: seiten = 'nan'\n",
    "\n",
    "            try: artikelnummer = driver.find_element(By.XPATH, '/html/body/div[2]/div/div/main/div[2]/section[2]/article[1]/div[2]/div[2]/div[1]/div[12]/span[2]/span').text\n",
    "            except: artikelnummer = 'nan'\n",
    "\n",
    "            try: isbn = driver.find_element(By.XPATH, '/html/body/div[2]/div/div/main/div[2]/section[2]/article[1]/div[2]/div[2]/div[1]/div[2]/span[2]/span').text\n",
    "            except: isbn = 'nan'\n",
    "\n",
    "            try: auflage = driver.find_element(By.XPATH, '/html/body/div[2]/div/div/main/div[2]/section[2]/article[1]/div[2]/div[2]/div[1]/div[8]/span[2]/span').text\n",
    "            except: auflage = 'nan'\n",
    "\n",
    "            try: reihe = driver.find_element(By.XPATH, '/html/body/div[2]/div/div/main/div[2]/section[2]/article[1]/div[2]/div[2]/div[1]/div[9]/span[2]/span/a').text\n",
    "            except: reihe = 'nan'\n",
    "\n",
    "            try: reihenbandnummer = driver.find_element(By.XPATH, '/html/body/div[2]/div/div/main/div[2]/section[2]/article[1]/div[2]/div[2]/div[1]/div[10]/span[2]/span').text\n",
    "            except: reihenbandnummer = 'nan'\n",
    "\n",
    "            try: genre = driver.find_element(By.XPATH, '/html/body/div[2]/div/div/main/div[2]/section[2]/article[1]/div[2]/div[2]/div[2]/div[2]/span[2]/span/a').text\n",
    "            except: genre = 'nan'\n",
    "\n",
    "            # get the 'Buchbeschreibungen'\n",
    "            try: text = driver.find_element(By.XPATH, '/html/body/div[2]/div/div/main/div[2]/section[2]/article[1]/div[2]').text\n",
    "            except: pass\n",
    "\n",
    "            sprache = 'Deutsch'\n",
    "\n",
    "        # Fehlermeldung\n",
    "        except: \n",
    "            print('error mit Buch {} auf Seite {}'.format(book, page))\n",
    "            continue\n",
    "    \n",
    "\n",
    "        df_temp = pd.DataFrame({'title': titel,  \n",
    "                        'preis': preis,\n",
    "                        'untertitel': untertitel,\n",
    "                        'autor': autor, \n",
    "                        'verlag': verlag,\n",
    "                        'sprache': sprache,\n",
    "                        'einband': einband,\n",
    "                        'erscheinungsjahr': erscheinungsjahr,\n",
    "                        'seiten': seiten,\n",
    "                        'artikelnummer':artikelnummer,\n",
    "                        'isbn': isbn,\n",
    "                        'auflage': auflage,\n",
    "                        'reihe': reihe,\n",
    "                        'reihenbandnummer': reihenbandnummer,\n",
    "                        'genre': genre,\n",
    "                        'text': text\n",
    "                        }, index=[0])\n",
    "        buch_df = pd.concat([buch_df, df_temp], ignore_index=True)\n",
    "    \n",
    "        #back to the main page\n",
    "        driver.get(buchhaus_new_last_30)\n",
    "\n",
    "    # go to the next page\n",
    "    if page == 1: driver.find_element(By.XPATH, '/html/body/div[2]/div/div/main/div[3]/div[2]/div[1]/div[5]/div/a').click()\n",
    "    else: driver.find_element(By.XPATH, '/html/body/div[2]/div/div/main/div[3]/div[2]/div[1]/div[5]/div/a[2]').click()\n",
    "    time.sleep(1)\n"
   ]
  },
  {
   "attachments": {},
   "cell_type": "markdown",
   "metadata": {},
   "source": [
    "## Datawrangling"
   ]
  },
  {
   "attachments": {},
   "cell_type": "markdown",
   "metadata": {},
   "source": [
    "## Ausblick"
   ]
  },
  {
   "attachments": {},
   "cell_type": "markdown",
   "metadata": {},
   "source": [
    "nächste Schritte:\n",
    "\n",
    "* anpassung der Unterachiedlichen Buchinformationen"
   ]
  },
  {
   "attachments": {},
   "cell_type": "markdown",
   "metadata": {},
   "source": [
    "Ausblick:\n",
    "\n",
    "* Bücher in den nächsten 30 Tagen könnten auch gescrapet werden"
   ]
  }
 ],
 "metadata": {
  "kernelspec": {
   "display_name": "Python 3",
   "language": "python",
   "name": "python3"
  },
  "language_info": {
   "codemirror_mode": {
    "name": "ipython",
    "version": 3
   },
   "file_extension": ".py",
   "mimetype": "text/x-python",
   "name": "python",
   "nbconvert_exporter": "python",
   "pygments_lexer": "ipython3",
   "version": "3.10.4"
  },
  "orig_nbformat": 4
 },
 "nbformat": 4,
 "nbformat_minor": 2
}
