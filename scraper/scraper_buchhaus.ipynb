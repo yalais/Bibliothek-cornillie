{
 "cells": [
  {
   "attachments": {},
   "cell_type": "markdown",
   "metadata": {},
   "source": [
    "todo:\n",
    "\n",
    "* extract details korrekt\n",
    "* data wrangling in data analysis\n",
    "* good df format for 2 different dataframe"
   ]
  },
  {
   "attachments": {},
   "cell_type": "markdown",
   "metadata": {},
   "source": [
    "## Libraries und Vairablen"
   ]
  },
  {
   "cell_type": "code",
   "execution_count": 1,
   "metadata": {
    "execution": {
     "iopub.execute_input": "2023-05-18T20:00:50.329863Z",
     "iopub.status.busy": "2023-05-18T20:00:50.329863Z",
     "iopub.status.idle": "2023-05-18T20:00:51.344625Z",
     "shell.execute_reply": "2023-05-18T20:00:51.343642Z"
    }
   },
   "outputs": [],
   "source": [
    "from selenium import webdriver\n",
    "from selenium.webdriver.common.keys import Keys\n",
    "from selenium.webdriver.common.by  import By\n",
    "from selenium.webdriver.support.ui import WebDriverWait\n",
    "from selenium.webdriver.support import expected_conditions as EC\n",
    "import pandas as pd\n",
    "import time\n",
    "import requests\n",
    "import re\n",
    "from bs4 import BeautifulSoup"
   ]
  },
  {
   "cell_type": "code",
   "execution_count": 2,
   "metadata": {
    "execution": {
     "iopub.execute_input": "2023-05-18T20:00:51.350623Z",
     "iopub.status.busy": "2023-05-18T20:00:51.349627Z",
     "iopub.status.idle": "2023-05-18T20:00:51.360621Z",
     "shell.execute_reply": "2023-05-18T20:00:51.359626Z"
    }
   },
   "outputs": [],
   "source": [
    "buchhaus_new_last_30 = 'https://www.buchhaus.ch/de/heute/last30'"
   ]
  },
  {
   "attachments": {},
   "cell_type": "markdown",
   "metadata": {},
   "source": [
    "## Webscraping"
   ]
  },
  {
   "cell_type": "code",
   "execution_count": 3,
   "metadata": {
    "execution": {
     "iopub.execute_input": "2023-05-18T20:00:51.366667Z",
     "iopub.status.busy": "2023-05-18T20:00:51.365659Z",
     "iopub.status.idle": "2023-05-18T20:01:15.777852Z",
     "shell.execute_reply": "2023-05-18T20:01:15.776803Z"
    }
   },
   "outputs": [
    {
     "name": "stderr",
     "output_type": "stream",
     "text": [
      "C:\\Users\\yanni\\AppData\\Local\\Temp\\ipykernel_18304\\3733846595.py:6: DeprecationWarning: executable_path has been deprecated, please pass in a Service object\n",
      "  driver = webdriver.Chrome(PATH)\n"
     ]
    },
    {
     "name": "stdout",
     "output_type": "stream",
     "text": [
      "Scraping page:  1\n",
      "Scraping page:  2\n",
      "Scraping page:  3\n",
      "Scraping page:  4\n",
      "Scraping page:  5\n",
      "Scraping page:  6\n",
      "Scraping page:  7\n",
      "Scraping page:  8\n",
      "Scraping page:  9\n",
      "Scraping page:  10\n"
     ]
    }
   ],
   "source": [
    "'''\n",
    "In this code Snippet we will get all the links to the books on the website\n",
    "'''\n",
    "\n",
    "PATH = \"C:\\Program Files (x86)\\chromedriver.exe\"\n",
    "driver = webdriver.Chrome(PATH)\n",
    "#load the page\n",
    "driver.get(buchhaus_new_last_30)\n",
    "\n",
    "all_links = []\n",
    "\n",
    "# data frame\n",
    "buch_df = pd.DataFrame(columns=['Titel',  \n",
    "                            'Preis',\n",
    "                            'Autor', \n",
    "                            'details', \n",
    "                            'Genre',\n",
    "                            'Text'])\n",
    "\n",
    "for page in range(1,11):\n",
    "    print('Scraping page: ', page)\n",
    "\n",
    "    # scrape all hyperlinks\n",
    "    links = driver.find_elements(By.XPATH, '/html/body/div[2]/div/div/main/div[3]/div[2]/div[4]/div//a')\n",
    "\n",
    "    # get the href attribute\n",
    "    links = [link.get_attribute('href') for link in links]\n",
    "\n",
    "    # remove duplicates\n",
    "    links = list(dict.fromkeys(links))\n",
    "\n",
    "    # remove all links that are not books\n",
    "    links = [link for link in links if 'buecher' in link]\n",
    "\n",
    "    # add links to all_links\n",
    "    all_links.extend(links)\n",
    "\n",
    "    # go to the next page\n",
    "    if page == 1: driver.find_element(By.XPATH, '/html/body/div[2]/div/div/main/div[3]/div[2]/div[1]/div[5]/div/a').click()\n",
    "    elif page == 10: pass\n",
    "    else: driver.find_element(By.XPATH, '/html/body/div[2]/div/div/main/div[3]/div[2]/div[1]/div[5]/div/a[2]').click()\n",
    "    time.sleep(1)\n",
    "    \n",
    "driver.close()"
   ]
  },
  {
   "cell_type": "code",
   "execution_count": 4,
   "metadata": {
    "execution": {
     "iopub.execute_input": "2023-05-18T20:01:15.787882Z",
     "iopub.status.busy": "2023-05-18T20:01:15.785474Z",
     "iopub.status.idle": "2023-05-18T20:08:59.541766Z",
     "shell.execute_reply": "2023-05-18T20:08:59.539770Z"
    }
   },
   "outputs": [
    {
     "name": "stderr",
     "output_type": "stream",
     "text": [
      "C:\\Users\\yanni\\AppData\\Local\\Temp\\ipykernel_18304\\3992451051.py:6: DeprecationWarning: executable_path has been deprecated, please pass in a Service object\n",
      "  driver = webdriver.Chrome(PATH)\n"
     ]
    }
   ],
   "source": [
    "'''\n",
    "In this code snippet we will get the data from the links\n",
    "'''\n",
    "\n",
    "PATH = \"C:\\Program Files (x86)\\chromedriver.exe\"\n",
    "driver = webdriver.Chrome(PATH)\n",
    "\n",
    "for book in all_links:\n",
    "    try:\n",
    "        driver.get(book)\n",
    "\n",
    "        # get the data simple data\n",
    "        try: titel = driver.find_element(By.XPATH, '/html/body/div[2]/div/div/main/div[2]/section[1]/div[2]/div[1]/h1/span/span').text\n",
    "        except: titel = 'nan'\n",
    "\n",
    "        try: preis = driver.find_element(By.XPATH, '/html/body/div[2]/div/div/main/div[2]/section[1]/div[2]/div[2]/div/div/span[2]/span').text\n",
    "        except: preis = 'nan'\n",
    "\n",
    "        try: autor = driver.find_element(By.XPATH, '/html/body/div[2]/div/div/main/div[2]/section[1]/div[2]/div[1]/div[2]/div').text\n",
    "        except: autor = 'nan'\n",
    "\n",
    "        # get the 'Buchbeschreibungen'\n",
    "        try: text = driver.find_element(By.XPATH, '/html/body/div[2]/div/div/main/div[2]/section[3]/div[1]/div[2]/div/span/span/span').text\n",
    "        except: text = 'nan'\n",
    "\n",
    "        # get the genre\n",
    "        parts = book.split('/')\n",
    "        #find the index of the genre\n",
    "        start_index = parts.index('buecher')\n",
    "        end_index = parts.index('detail')\n",
    "        # get the genres\n",
    "        genre = parts[start_index+1:end_index]\n",
    "        genre = ' '.join(genre)\n",
    "\n",
    "        # get the 'Buchdetails'\n",
    "        try: details = driver.find_element(By.XPATH, '/html/body/div[2]/div/div/main/div[2]/section[3]/div[2]/div[2]/div').text\n",
    "        except: details = 'nan'\n",
    "\n",
    "    # Fehlermeldung\n",
    "    except: \n",
    "        print('error mit Buch: ', book)\n",
    "        continue\n",
    "    \n",
    "\n",
    "    df_temp = pd.DataFrame({'Titel': titel,  \n",
    "                    'Preis': preis,\n",
    "                    'Autor': autor,\n",
    "                    'details': details,\n",
    "                    'Genre' : genre,\n",
    "                    'Text': text\n",
    "                    }, index=[0])\n",
    "    buch_df = pd.concat([buch_df, df_temp], ignore_index=True)\n",
    "\n",
    "driver.close()"
   ]
  },
  {
   "attachments": {},
   "cell_type": "markdown",
   "metadata": {},
   "source": [
    "## Datawrangling"
   ]
  },
  {
   "cell_type": "code",
   "execution_count": 5,
   "metadata": {
    "execution": {
     "iopub.execute_input": "2023-05-18T20:08:59.556233Z",
     "iopub.status.busy": "2023-05-18T20:08:59.555232Z",
     "iopub.status.idle": "2023-05-18T20:08:59.604973Z",
     "shell.execute_reply": "2023-05-18T20:08:59.601975Z"
    }
   },
   "outputs": [
    {
     "data": {
      "text/plain": [
       "(232, 6)"
      ]
     },
     "execution_count": 5,
     "metadata": {},
     "output_type": "execute_result"
    }
   ],
   "source": [
    "buch_df.shape"
   ]
  },
  {
   "cell_type": "code",
   "execution_count": 6,
   "metadata": {
    "execution": {
     "iopub.execute_input": "2023-05-18T20:08:59.616459Z",
     "iopub.status.busy": "2023-05-18T20:08:59.615457Z",
     "iopub.status.idle": "2023-05-18T20:08:59.633792Z",
     "shell.execute_reply": "2023-05-18T20:08:59.632792Z"
    }
   },
   "outputs": [],
   "source": [
    "'''\n",
    "short algorithm description:\n",
    "1. List all possible keys: These are the categories that precede the actual values in the data string.\n",
    "2. Create a regular expression: This regular expression is designed to match each key, followed by any characters until the next key is found or until the end of the string.\n",
    "3. Find all matches in the data: Use the 're.findall' function to apply the regular expression to the data string. \n",
    "This returns a list of tuples containing the key and the associated value for each match.\n",
    "4. Convert the matches into a Dictionnary in the Dataframe.\n",
    "'''\n",
    "\n",
    "def extract_details(details):\n",
    "    # Key words which can be find in the string\n",
    "    keys = [\"ISBN/GTIN\", \"Produktart\", \"Einbandart\", \"Verlag\", \"Erscheinungsdatum\", \"Auflage\", \"Reihe\", \"Reihen-Nr.\", \"Seiten\", \"Sprache\", \"Masse\", \"Artikel-Nr.\"]\n",
    "\n",
    "    # generate a regex which can find all the keys in the string\n",
    "    regex = \"(\" + \"|\".join(keys) + \")(.*?)(?=\" + \"|\".join(keys) + \"|$)\"\n",
    "\n",
    "    # finds all key value pairs in the string\n",
    "    matches = re.findall(regex, details)\n",
    "    \n",
    "    # returns a dictionary with key value pairs\n",
    "    return dict((k.strip(), v.strip()) for k, v in matches)"
   ]
  },
  {
   "cell_type": "code",
   "execution_count": 7,
   "metadata": {
    "execution": {
     "iopub.execute_input": "2023-05-18T20:08:59.643831Z",
     "iopub.status.busy": "2023-05-18T20:08:59.642832Z",
     "iopub.status.idle": "2023-05-18T20:08:59.665458Z",
     "shell.execute_reply": "2023-05-18T20:08:59.664460Z"
    }
   },
   "outputs": [],
   "source": [
    "def data_wrangling_pipeline(df):\n",
    "    # apply the function to the data frame (create a new column with extracted details)\n",
    "    df['details_dict'] = df['details'].apply(extract_details)\n",
    "    # create new dataframe with the details\n",
    "    details_df = df['details_dict'].apply(pd.Series, dtype= 'object')\n",
    "    # concat both dataframes\n",
    "    new_df = pd.concat([buch_df, details_df], axis=1)\n",
    "    # drop the old details columns\n",
    "    new_df.drop(['details', 'details_dict'], axis=1, inplace=True)\n",
    "    return new_df"
   ]
  },
  {
   "cell_type": "code",
   "execution_count": 8,
   "metadata": {
    "execution": {
     "iopub.execute_input": "2023-05-18T20:08:59.674875Z",
     "iopub.status.busy": "2023-05-18T20:08:59.673466Z",
     "iopub.status.idle": "2023-05-18T20:08:59.903722Z",
     "shell.execute_reply": "2023-05-18T20:08:59.901761Z"
    }
   },
   "outputs": [],
   "source": [
    "buch_df = data_wrangling_pipeline(buch_df)\n",
    "\n",
    "#drop all rows where the title is nan\n",
    "buch_df = buch_df[buch_df['Titel'] != 'nan']\n",
    "\n",
    "#drop duplicates\n",
    "buch_df.drop_duplicates(subset=['Titel'], inplace=True)\n",
    "\n",
    "# reset index\n",
    "buch_df.reset_index(drop=True, inplace=True)"
   ]
  },
  {
   "cell_type": "code",
   "execution_count": 9,
   "metadata": {
    "execution": {
     "iopub.execute_input": "2023-05-18T20:08:59.916732Z",
     "iopub.status.busy": "2023-05-18T20:08:59.915736Z",
     "iopub.status.idle": "2023-05-18T20:08:59.980079Z",
     "shell.execute_reply": "2023-05-18T20:08:59.978722Z"
    }
   },
   "outputs": [
    {
     "data": {
      "text/html": [
       "<div>\n",
       "<style scoped>\n",
       "    .dataframe tbody tr th:only-of-type {\n",
       "        vertical-align: middle;\n",
       "    }\n",
       "\n",
       "    .dataframe tbody tr th {\n",
       "        vertical-align: top;\n",
       "    }\n",
       "\n",
       "    .dataframe thead th {\n",
       "        text-align: right;\n",
       "    }\n",
       "</style>\n",
       "<table border=\"1\" class=\"dataframe\">\n",
       "  <thead>\n",
       "    <tr style=\"text-align: right;\">\n",
       "      <th></th>\n",
       "      <th>Titel</th>\n",
       "      <th>Preis</th>\n",
       "      <th>Autor</th>\n",
       "      <th>Genre</th>\n",
       "      <th>Text</th>\n",
       "      <th>ISBN/GTIN</th>\n",
       "      <th>Produktart</th>\n",
       "      <th>Einbandart</th>\n",
       "      <th>Verlag</th>\n",
       "      <th>Erscheinungsdatum</th>\n",
       "      <th>Auflage</th>\n",
       "      <th>Reihe</th>\n",
       "      <th>Seiten</th>\n",
       "      <th>Sprache</th>\n",
       "      <th>Masse</th>\n",
       "      <th>Artikel-Nr.</th>\n",
       "    </tr>\n",
       "  </thead>\n",
       "  <tbody>\n",
       "    <tr>\n",
       "      <th>226</th>\n",
       "      <td>Jade City - Familie ist Pflicht</td>\n",
       "      <td>24.90</td>\n",
       "      <td>Lee, FondaLungstrass-Kapfer, CharlotteÜbersetzung</td>\n",
       "      <td>taschenbuch fantasy</td>\n",
       "      <td>Familie ist Pflicht - Magie ist Macht - Ehre i...</td>\n",
       "      <td>978-3-426-52854-9</td>\n",
       "      <td>Taschenbuch</td>\n",
       "      <td>Paperback</td>\n",
       "      <td>Droemer/Knaur</td>\n",
       "      <td>02.05.2023</td>\n",
       "      <td></td>\n",
       "      <td>n-Nr.01</td>\n",
       "      <td></td>\n",
       "      <td>Deutsch</td>\n",
       "      <td>NaN</td>\n",
       "      <td>NaN</td>\n",
       "    </tr>\n",
       "    <tr>\n",
       "      <th>227</th>\n",
       "      <td>Kochbuch ab 1 Jahr</td>\n",
       "      <td>32.90</td>\n",
       "      <td>Merz, LenaSchäflein, Annina</td>\n",
       "      <td>kochen kinderkochen</td>\n",
       "      <td>Das neue Buch der Bestseller-Autorinnen für di...</td>\n",
       "      <td>978-3-8338-8921-9</td>\n",
       "      <td>Buch</td>\n",
       "      <td>Gebunden</td>\n",
       "      <td>Gräfe &amp; Unzer</td>\n",
       "      <td>03.05.2023</td>\n",
       "      <td>NaN</td>\n",
       "      <td>GU Familienküche</td>\n",
       "      <td></td>\n",
       "      <td>Deutsch</td>\n",
       "      <td>Breite 190 mm, Höhe 250 mm, Dicke 13 mmGewicht...</td>\n",
       "      <td>NaN</td>\n",
       "    </tr>\n",
       "    <tr>\n",
       "      <th>228</th>\n",
       "      <td>Gidget. Mein Sommer in Malibu</td>\n",
       "      <td>32.90</td>\n",
       "      <td>Kohner, FrederickHesse, HannaÜbersetzungWeider...</td>\n",
       "      <td>belletristik romane</td>\n",
       "      <td>Wie fühlt es sich an, frei zu sein?\\n\\nEin Som...</td>\n",
       "      <td>978-3-10-397540-6</td>\n",
       "      <td>Buch</td>\n",
       "      <td>Gebunden</td>\n",
       "      <td>GmbH</td>\n",
       "      <td>26.04.2023</td>\n",
       "      <td></td>\n",
       "      <td>NaN</td>\n",
       "      <td></td>\n",
       "      <td>Deutsch</td>\n",
       "      <td>Breite 132 mm, Höhe 210 mm, Dicke 21 mmGewicht...</td>\n",
       "      <td>NaN</td>\n",
       "    </tr>\n",
       "    <tr>\n",
       "      <th>229</th>\n",
       "      <td>Fokus. Die Kraft der Konzentration</td>\n",
       "      <td>34.90</td>\n",
       "      <td>DandapaniWeingart, KarinÜbersetzung</td>\n",
       "      <td>fachbuecher psychologie psychologie</td>\n",
       "      <td>Permanente Ablenkung ist in unserem modernen A...</td>\n",
       "      <td>978-3-7787-8309-2</td>\n",
       "      <td>Buch</td>\n",
       "      <td>Gebunden</td>\n",
       "      <td>Lotos</td>\n",
       "      <td>26.04.2023</td>\n",
       "      <td>Deutsche Erstausgabe</td>\n",
       "      <td>NaN</td>\n",
       "      <td></td>\n",
       "      <td>Deutsch</td>\n",
       "      <td>Breite 160 mm, Höhe 232 mm, Dicke 34 mmGewicht...</td>\n",
       "      <td>NaN</td>\n",
       "    </tr>\n",
       "    <tr>\n",
       "      <th>230</th>\n",
       "      <td>Upgrade</td>\n",
       "      <td>24.90</td>\n",
       "      <td>Crouch, BlakeHofstetter, UrbanÜbersetzung</td>\n",
       "      <td>taschenbuch fantasy</td>\n",
       "      <td>Amerika in der nahen Zukunft: Special Agent Lo...</td>\n",
       "      <td>978-3-453-32268-4</td>\n",
       "      <td>Taschenbuch</td>\n",
       "      <td>Paperback</td>\n",
       "      <td>Heyne</td>\n",
       "      <td>11.05.2023</td>\n",
       "      <td>Deutsche Erstausgabe</td>\n",
       "      <td>NaN</td>\n",
       "      <td></td>\n",
       "      <td>Deutsch</td>\n",
       "      <td>Breite 137 mm, Höhe 206 mm, Dicke 32 mmGewicht...</td>\n",
       "      <td>NaN</td>\n",
       "    </tr>\n",
       "  </tbody>\n",
       "</table>\n",
       "</div>"
      ],
      "text/plain": [
       "                                  Titel  Preis  \\\n",
       "226     Jade City - Familie ist Pflicht  24.90   \n",
       "227                  Kochbuch ab 1 Jahr  32.90   \n",
       "228       Gidget. Mein Sommer in Malibu  32.90   \n",
       "229  Fokus. Die Kraft der Konzentration  34.90   \n",
       "230                             Upgrade  24.90   \n",
       "\n",
       "                                                 Autor  \\\n",
       "226  Lee, FondaLungstrass-Kapfer, CharlotteÜbersetzung   \n",
       "227                        Merz, LenaSchäflein, Annina   \n",
       "228  Kohner, FrederickHesse, HannaÜbersetzungWeider...   \n",
       "229                DandapaniWeingart, KarinÜbersetzung   \n",
       "230          Crouch, BlakeHofstetter, UrbanÜbersetzung   \n",
       "\n",
       "                                   Genre  \\\n",
       "226                  taschenbuch fantasy   \n",
       "227                  kochen kinderkochen   \n",
       "228                  belletristik romane   \n",
       "229  fachbuecher psychologie psychologie   \n",
       "230                  taschenbuch fantasy   \n",
       "\n",
       "                                                  Text          ISBN/GTIN  \\\n",
       "226  Familie ist Pflicht - Magie ist Macht - Ehre i...  978-3-426-52854-9   \n",
       "227  Das neue Buch der Bestseller-Autorinnen für di...  978-3-8338-8921-9   \n",
       "228  Wie fühlt es sich an, frei zu sein?\\n\\nEin Som...  978-3-10-397540-6   \n",
       "229  Permanente Ablenkung ist in unserem modernen A...  978-3-7787-8309-2   \n",
       "230  Amerika in der nahen Zukunft: Special Agent Lo...  978-3-453-32268-4   \n",
       "\n",
       "      Produktart Einbandart         Verlag Erscheinungsdatum  \\\n",
       "226  Taschenbuch  Paperback  Droemer/Knaur        02.05.2023   \n",
       "227         Buch   Gebunden  Gräfe & Unzer        03.05.2023   \n",
       "228         Buch   Gebunden           GmbH        26.04.2023   \n",
       "229         Buch   Gebunden          Lotos        26.04.2023   \n",
       "230  Taschenbuch  Paperback          Heyne        11.05.2023   \n",
       "\n",
       "                  Auflage             Reihe Seiten  Sprache  \\\n",
       "226                                 n-Nr.01         Deutsch   \n",
       "227                   NaN  GU Familienküche         Deutsch   \n",
       "228                                     NaN         Deutsch   \n",
       "229  Deutsche Erstausgabe               NaN         Deutsch   \n",
       "230  Deutsche Erstausgabe               NaN         Deutsch   \n",
       "\n",
       "                                                 Masse Artikel-Nr.  \n",
       "226                                                NaN         NaN  \n",
       "227  Breite 190 mm, Höhe 250 mm, Dicke 13 mmGewicht...         NaN  \n",
       "228  Breite 132 mm, Höhe 210 mm, Dicke 21 mmGewicht...         NaN  \n",
       "229  Breite 160 mm, Höhe 232 mm, Dicke 34 mmGewicht...         NaN  \n",
       "230  Breite 137 mm, Höhe 206 mm, Dicke 32 mmGewicht...         NaN  "
      ]
     },
     "execution_count": 9,
     "metadata": {},
     "output_type": "execute_result"
    }
   ],
   "source": [
    "buch_df.tail()"
   ]
  },
  {
   "attachments": {},
   "cell_type": "markdown",
   "metadata": {},
   "source": [
    "## Export"
   ]
  },
  {
   "cell_type": "code",
   "execution_count": 10,
   "metadata": {
    "execution": {
     "iopub.execute_input": "2023-05-18T20:08:59.993145Z",
     "iopub.status.busy": "2023-05-18T20:08:59.992144Z",
     "iopub.status.idle": "2023-05-18T20:09:01.129024Z",
     "shell.execute_reply": "2023-05-18T20:09:01.127009Z"
    }
   },
   "outputs": [],
   "source": [
    "# save as xlsx\n",
    "buch_df.to_excel('../data/excelfiles/df_neuheiten_buchhaus.xlsx', index=False)\n",
    "# save as feather\n",
    "buch_df.to_feather('../data/feather/df_neuheiten_buchhaus.feather')"
   ]
  },
  {
   "attachments": {},
   "cell_type": "markdown",
   "metadata": {},
   "source": [
    "## Ausblick"
   ]
  },
  {
   "attachments": {},
   "cell_type": "markdown",
   "metadata": {},
   "source": [
    "Ausblick:\n",
    "\n",
    "* Bücher in den nächsten 30 Tagen könnten auch gescrapet werden"
   ]
  }
 ],
 "metadata": {
  "kernelspec": {
   "display_name": "Python 3",
   "language": "python",
   "name": "python3"
  },
  "language_info": {
   "codemirror_mode": {
    "name": "ipython",
    "version": 3
   },
   "file_extension": ".py",
   "mimetype": "text/x-python",
   "name": "python",
   "nbconvert_exporter": "python",
   "pygments_lexer": "ipython3",
   "version": "3.10.4"
  }
 },
 "nbformat": 4,
 "nbformat_minor": 2
}
